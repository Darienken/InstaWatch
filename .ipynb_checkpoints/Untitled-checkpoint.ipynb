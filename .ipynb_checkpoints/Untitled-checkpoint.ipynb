{
 "cells": [
  {
   "cell_type": "code",
   "execution_count": 34,
   "id": "b9d7bcb6",
   "metadata": {
    "scrolled": true
   },
   "outputs": [],
   "source": [
    "import pandas as pd\n",
    "excel_df=pd.read_excel(\"user_data.xlsx\")\n",
    "excel_df=excel_df.append({\n",
    "    \"test\":\"como\"\n",
    "}, ignore_index=True)\n",
    "excel_df.to_excel(\"user_data.xlsx\")\n",
    "excel_df\n",
    "#excel_df = excel_df.fillna(\"\")\n",
    "#excel_s = pd.Series(excel_df.values.flatten())\n",
    "#user=excel_s[excel_s[:].str.contains(\"Users\")]\n",
    "#user.index\n",
    "#excel_s.loc(\"Users\")\n"
   ]
  },
  {
   "cell_type": "code",
   "execution_count": null,
   "id": "5283d65a",
   "metadata": {
    "scrolled": true
   },
   "outputs": [],
   "source": [
    "#excel_df.iloc[8:13 , 12:13]\n",
    "#excel_df.loc[excel_df[:]==\"Users\"]\n",
    "#excel_df"
   ]
  },
  {
   "cell_type": "code",
   "execution_count": 4,
   "id": "fba8b4c9",
   "metadata": {},
   "outputs": [],
   "source": [
    "df=pd.DataFrame({\n",
    "    \"test\":[\"hello\"]\n",
    "})\n",
    "df.to_excel(\"user_data.xlsx\")"
   ]
  },
  {
   "cell_type": "code",
   "execution_count": null,
   "id": "48a62641",
   "metadata": {},
   "outputs": [],
   "source": []
  },
  {
   "cell_type": "code",
   "execution_count": null,
   "id": "f513a026",
   "metadata": {},
   "outputs": [],
   "source": []
  }
 ],
 "metadata": {
  "kernelspec": {
   "display_name": "Python 3",
   "language": "python",
   "name": "python3"
  },
  "language_info": {
   "codemirror_mode": {
    "name": "ipython",
    "version": 3
   },
   "file_extension": ".py",
   "mimetype": "text/x-python",
   "name": "python",
   "nbconvert_exporter": "python",
   "pygments_lexer": "ipython3",
   "version": "3.9.4"
  }
 },
 "nbformat": 4,
 "nbformat_minor": 5
}
